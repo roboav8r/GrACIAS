{
 "cells": [
  {
   "cell_type": "code",
   "execution_count": 1,
   "id": "b5639619-762b-47ac-b88e-f8e259db8b08",
   "metadata": {},
   "outputs": [],
   "source": [
    "# Imports\n",
    "import os\n",
    "import subprocess\n",
    "\n",
    "import numpy as np\n",
    "\n",
    "import rosbag2_py\n",
    "from rclpy.serialization import deserialize_message\n",
    "from rosidl_runtime_py.utilities import get_message\n",
    "\n",
    "import rclpy\n",
    "from rclpy.node import Node\n",
    "\n",
    "from sensor_msgs.msg import Image\n",
    "from audio_common_msgs.msg import AudioDataStamped\n",
    "from vision_msgs.msg import Detection3DArray\n",
    "from situated_hri_interfaces.srv import SceneVisRec, SceneAudioRec, RecordEpoch\n",
    "from tf2_msgs.msg import TFMessage\n",
    "\n",
    "from std_srvs.srv import Empty"
   ]
  },
  {
   "cell_type": "code",
   "execution_count": 2,
   "id": "6cbb5267-01a1-456e-97c7-1f28580b878b",
   "metadata": {},
   "outputs": [],
   "source": [
    "# Parameters\n",
    "filepath = '../../bags/e1_est_tuning'\n",
    "rel_filepath = 'src/situated_interaction/bags/e1_est_tuning'"
   ]
  },
  {
   "cell_type": "code",
   "execution_count": 8,
   "id": "828d2509-1bdd-40e8-b7c4-d7a60bb4b518",
   "metadata": {},
   "outputs": [],
   "source": [
    "# Member variables\n",
    "rclpy.init()\n",
    "node = Node('bag_playback_node')\n",
    "\n",
    "# Set parameters\n",
    "\n",
    "# Reset clients and services\n",
    "reset_oakd_tracker_client = node.create_client(Empty, 'oakd_tracker_node/reset_tracker')\n",
    "\n",
    "# Start/stop recording services\n",
    "start_tracker_recording_client = node.create_client(RecordEpoch, 'record_tracker_results_node/record_epoch')\n",
    "stop_tracker_recording_client = node.create_client(Empty, 'record_tracker_results_node/stop_recording')\n",
    "\n",
    "# Other member variables\n",
    "actual_scene_labels = ['campus','courtyard','lab','lobby']\n"
   ]
  },
  {
   "cell_type": "code",
   "execution_count": null,
   "id": "96fc00db-fada-4710-ba49-ac3a65ddfcc1",
   "metadata": {
    "scrolled": true
   },
   "outputs": [
    {
     "name": "stdout",
     "output_type": "stream",
     "text": [
      "New Command\n",
      "ros2 bag play ../../bags/e1_est_tuning/lab/supervisor/gest_verb/move-in-reverse --clock 1\n"
     ]
    },
    {
     "name": "stderr",
     "output_type": "stream",
     "text": [
      "stdin is not a terminal device. Keyboard handling disabled.[INFO] [1726534631.137070695] [rosbag2_player]: Set rate to 1\n",
      "[INFO] [1726534631.148614137] [rosbag2_player]: Adding keyboard callbacks.\n",
      "[INFO] [1726534631.148655032] [rosbag2_player]: Press SPACE for Pause/Resume\n",
      "[INFO] [1726534631.148674989] [rosbag2_player]: Press CURSOR_RIGHT for Play Next Message\n",
      "[INFO] [1726534631.148692491] [rosbag2_player]: Press CURSOR_UP for Increase Rate 10%\n",
      "[INFO] [1726534631.148709062] [rosbag2_player]: Press CURSOR_DOWN for Decrease Rate 10%\n",
      "[ERROR] [1726534651.790966456] [rosbag2_storage]: Could not open '../../bags/e1_est_tuning/lab/supervisor/gest_verb/move-in-reverse/move-in-reverse_5.mcap' with 'mcap'. Error: read failed\n",
      "[ERROR] [1726534651.791026617] [rosbag2_storage]: Could not load/open plugin with storage id 'mcap'\n",
      "[ERROR] [1726534661.220606815] [rosbag2_player]: Failed to play: No storage could be initialized. Abort\n"
     ]
    },
    {
     "name": "stdout",
     "output_type": "stream",
     "text": [
      "\n",
      "\n",
      "\n",
      "New Command\n",
      "ros2 bag play ../../bags/e1_est_tuning/lab/supervisor/gest_verb/move-forward --clock 1\n"
     ]
    },
    {
     "name": "stderr",
     "output_type": "stream",
     "text": [
      "stdin is not a terminal device. Keyboard handling disabled.[INFO] [1726534661.619024355] [rosbag2_player]: Set rate to 1\n",
      "[INFO] [1726534661.635604612] [rosbag2_player]: Adding keyboard callbacks.\n",
      "[INFO] [1726534661.635648322] [rosbag2_player]: Press SPACE for Pause/Resume\n",
      "[INFO] [1726534661.635666846] [rosbag2_player]: Press CURSOR_RIGHT for Play Next Message\n",
      "[INFO] [1726534661.635683277] [rosbag2_player]: Press CURSOR_UP for Increase Rate 10%\n",
      "[INFO] [1726534661.635699477] [rosbag2_player]: Press CURSOR_DOWN for Decrease Rate 10%\n",
      "[ERROR] [1726534681.598691222] [rosbag2_storage]: Could not open '../../bags/e1_est_tuning/lab/supervisor/gest_verb/move-forward/move-forward_5.mcap' with 'mcap'. Error: read failed\n",
      "[ERROR] [1726534681.598738239] [rosbag2_storage]: Could not load/open plugin with storage id 'mcap'\n",
      "[ERROR] [1726534691.665166179] [rosbag2_player]: Failed to play: No storage could be initialized. Abort\n"
     ]
    },
    {
     "name": "stdout",
     "output_type": "stream",
     "text": [
      "\n",
      "\n",
      "\n",
      "New Command\n",
      "ros2 bag play ../../bags/e1_est_tuning/lab/supervisor/gest_verb/follow-me --clock 1\n"
     ]
    },
    {
     "name": "stderr",
     "output_type": "stream",
     "text": [
      "stdin is not a terminal device. Keyboard handling disabled.[INFO] [1726534692.068666471] [rosbag2_player]: Set rate to 1\n",
      "[INFO] [1726534692.079419847] [rosbag2_player]: Adding keyboard callbacks.\n",
      "[INFO] [1726534692.079460883] [rosbag2_player]: Press SPACE for Pause/Resume\n",
      "[INFO] [1726534692.079475329] [rosbag2_player]: Press CURSOR_RIGHT for Play Next Message\n",
      "[INFO] [1726534692.079487181] [rosbag2_player]: Press CURSOR_UP for Increase Rate 10%\n",
      "[INFO] [1726534692.079498522] [rosbag2_player]: Press CURSOR_DOWN for Decrease Rate 10%\n",
      "[ERROR] [1726534712.325757534] [rosbag2_storage]: Could not open '../../bags/e1_est_tuning/lab/supervisor/gest_verb/follow-me/follow-me_5.mcap' with 'mcap'. Error: read failed\n",
      "[ERROR] [1726534712.325816333] [rosbag2_storage]: Could not load/open plugin with storage id 'mcap'\n",
      "[ERROR] [1726534722.106538235] [rosbag2_player]: Failed to play: No storage could be initialized. Abort\n"
     ]
    },
    {
     "name": "stdout",
     "output_type": "stream",
     "text": [
      "\n",
      "\n",
      "\n",
      "New Command\n",
      "ros2 bag play ../../bags/e1_est_tuning/lab/supervisor/gest_verb/rally --clock 1\n"
     ]
    },
    {
     "name": "stderr",
     "output_type": "stream",
     "text": [
      "stdin is not a terminal device. Keyboard handling disabled.[INFO] [1726534722.531394480] [rosbag2_player]: Set rate to 1\n",
      "[INFO] [1726534722.543337784] [rosbag2_player]: Adding keyboard callbacks.\n",
      "[INFO] [1726534722.543388969] [rosbag2_player]: Press SPACE for Pause/Resume\n",
      "[INFO] [1726534722.543409376] [rosbag2_player]: Press CURSOR_RIGHT for Play Next Message\n",
      "[INFO] [1726534722.543427930] [rosbag2_player]: Press CURSOR_UP for Increase Rate 10%\n",
      "[INFO] [1726534722.543446064] [rosbag2_player]: Press CURSOR_DOWN for Decrease Rate 10%\n",
      "[ERROR] [1726534742.443502256] [rosbag2_storage]: Could not open '../../bags/e1_est_tuning/lab/supervisor/gest_verb/rally/rally_5.mcap' with 'mcap'. Error: read failed\n",
      "[ERROR] [1726534742.443543312] [rosbag2_storage]: Could not load/open plugin with storage id 'mcap'\n",
      "[ERROR] [1726534752.566762615] [rosbag2_player]: Failed to play: No storage could be initialized. Abort\n"
     ]
    },
    {
     "name": "stdout",
     "output_type": "stream",
     "text": [
      "\n",
      "\n",
      "\n",
      "New Command\n",
      "ros2 bag play ../../bags/e1_est_tuning/lab/supervisor/gest_verb/halt --clock 1\n"
     ]
    },
    {
     "name": "stderr",
     "output_type": "stream",
     "text": [
      "stdin is not a terminal device. Keyboard handling disabled.[INFO] [1726534753.002519741] [rosbag2_player]: Set rate to 1\n",
      "[INFO] [1726534753.013981031] [rosbag2_player]: Adding keyboard callbacks.\n",
      "[INFO] [1726534753.014026505] [rosbag2_player]: Press SPACE for Pause/Resume\n",
      "[INFO] [1726534753.014042485] [rosbag2_player]: Press CURSOR_RIGHT for Play Next Message\n",
      "[INFO] [1726534753.014055879] [rosbag2_player]: Press CURSOR_UP for Increase Rate 10%\n",
      "[INFO] [1726534753.014069044] [rosbag2_player]: Press CURSOR_DOWN for Decrease Rate 10%\n",
      "[ERROR] [1726534773.007640869] [rosbag2_storage]: Could not open '../../bags/e1_est_tuning/lab/supervisor/gest_verb/halt/halt_5.mcap' with 'mcap'. Error: read failed\n",
      "[ERROR] [1726534773.007690621] [rosbag2_storage]: Could not load/open plugin with storage id 'mcap'\n",
      "[ERROR] [1726534783.123998841] [rosbag2_player]: Failed to play: No storage could be initialized. Abort\n"
     ]
    },
    {
     "name": "stdout",
     "output_type": "stream",
     "text": [
      "\n",
      "\n",
      "\n",
      "New Command\n",
      "ros2 bag play ../../bags/e1_est_tuning/lab/supervisor/gest_verb/advance --clock 1\n"
     ]
    },
    {
     "name": "stderr",
     "output_type": "stream",
     "text": [
      "stdin is not a terminal device. Keyboard handling disabled.[INFO] [1726534783.576160140] [rosbag2_player]: Set rate to 1\n",
      "[INFO] [1726534783.589506280] [rosbag2_player]: Adding keyboard callbacks.\n",
      "[INFO] [1726534783.589568796] [rosbag2_player]: Press SPACE for Pause/Resume\n",
      "[INFO] [1726534783.589588963] [rosbag2_player]: Press CURSOR_RIGHT for Play Next Message\n",
      "[INFO] [1726534783.589606024] [rosbag2_player]: Press CURSOR_UP for Increase Rate 10%\n",
      "[INFO] [1726534783.589620721] [rosbag2_player]: Press CURSOR_DOWN for Decrease Rate 10%\n",
      "[ERROR] [1726534803.572116802] [rosbag2_storage]: Could not open '../../bags/e1_est_tuning/lab/supervisor/gest_verb/advance/advance_5.mcap' with 'mcap'. Error: read failed\n",
      "[ERROR] [1726534803.572175421] [rosbag2_storage]: Could not load/open plugin with storage id 'mcap'\n",
      "[ERROR] [1726534813.613056413] [rosbag2_player]: Failed to play: No storage could be initialized. Abort\n"
     ]
    },
    {
     "name": "stdout",
     "output_type": "stream",
     "text": [
      "\n",
      "\n",
      "\n",
      "New Command\n",
      "ros2 bag play ../../bags/e1_est_tuning/lab/supervisor/gest_verb/attention --clock 1\n"
     ]
    },
    {
     "name": "stderr",
     "output_type": "stream",
     "text": [
      "stdin is not a terminal device. Keyboard handling disabled.[INFO] [1726534814.067187380] [rosbag2_player]: Set rate to 1\n",
      "[INFO] [1726534814.079338621] [rosbag2_player]: Adding keyboard callbacks.\n",
      "[INFO] [1726534814.079383805] [rosbag2_player]: Press SPACE for Pause/Resume\n",
      "[INFO] [1726534814.079404262] [rosbag2_player]: Press CURSOR_RIGHT for Play Next Message\n",
      "[INFO] [1726534814.079422306] [rosbag2_player]: Press CURSOR_UP for Increase Rate 10%\n",
      "[INFO] [1726534814.079439447] [rosbag2_player]: Press CURSOR_DOWN for Decrease Rate 10%\n",
      "[ERROR] [1726534833.970364176] [rosbag2_storage]: Could not open '../../bags/e1_est_tuning/lab/supervisor/gest_verb/attention/attention_5.mcap' with 'mcap'. Error: read failed\n",
      "[ERROR] [1726534833.970421502] [rosbag2_storage]: Could not load/open plugin with storage id 'mcap'\n",
      "[ERROR] [1726534844.225263632] [rosbag2_player]: Failed to play: No storage could be initialized. Abort\n"
     ]
    },
    {
     "name": "stdout",
     "output_type": "stream",
     "text": [
      "\n",
      "\n",
      "\n",
      "New Command\n",
      "ros2 bag play ../../bags/e1_est_tuning/lab/supervisor/artag/move-in-reverse --clock 1\n"
     ]
    },
    {
     "name": "stderr",
     "output_type": "stream",
     "text": [
      "stdin is not a terminal device. Keyboard handling disabled.[INFO] [1726534844.667235892] [rosbag2_player]: Set rate to 1\n",
      "[INFO] [1726534844.679025059] [rosbag2_player]: Adding keyboard callbacks.\n",
      "[INFO] [1726534844.679067317] [rosbag2_player]: Press SPACE for Pause/Resume\n",
      "[INFO] [1726534844.679085611] [rosbag2_player]: Press CURSOR_RIGHT for Play Next Message\n",
      "[INFO] [1726534844.679101651] [rosbag2_player]: Press CURSOR_UP for Increase Rate 10%\n",
      "[INFO] [1726534844.679118121] [rosbag2_player]: Press CURSOR_DOWN for Decrease Rate 10%\n",
      "[ERROR] [1726534864.722746168] [rosbag2_storage]: Could not open '../../bags/e1_est_tuning/lab/supervisor/artag/move-in-reverse/move-in-reverse_5.mcap' with 'mcap'. Error: read failed\n",
      "[ERROR] [1726534864.722801080] [rosbag2_storage]: Could not load/open plugin with storage id 'mcap'\n",
      "[ERROR] [1726534874.865581537] [rosbag2_player]: Failed to play: No storage could be initialized. Abort\n"
     ]
    },
    {
     "name": "stdout",
     "output_type": "stream",
     "text": [
      "\n",
      "\n",
      "\n",
      "New Command\n",
      "ros2 bag play ../../bags/e1_est_tuning/lab/supervisor/artag/move-forward --clock 1\n"
     ]
    },
    {
     "name": "stderr",
     "output_type": "stream",
     "text": [
      "stdin is not a terminal device. Keyboard handling disabled.[INFO] [1726534875.302056063] [rosbag2_player]: Set rate to 1\n",
      "[INFO] [1726534875.316178448] [rosbag2_player]: Adding keyboard callbacks.\n",
      "[INFO] [1726534875.316229873] [rosbag2_player]: Press SPACE for Pause/Resume\n",
      "[INFO] [1726534875.316252214] [rosbag2_player]: Press CURSOR_RIGHT for Play Next Message\n",
      "[INFO] [1726534875.316267803] [rosbag2_player]: Press CURSOR_UP for Increase Rate 10%\n",
      "[INFO] [1726534875.316280666] [rosbag2_player]: Press CURSOR_DOWN for Decrease Rate 10%\n",
      "[ERROR] [1726534896.002402935] [rosbag2_storage]: Could not open '../../bags/e1_est_tuning/lab/supervisor/artag/move-forward/move-forward_5.mcap' with 'mcap'. Error: read failed\n",
      "[ERROR] [1726534896.002453218] [rosbag2_storage]: Could not load/open plugin with storage id 'mcap'\n",
      "[ERROR] [1726534905.377866718] [rosbag2_player]: Failed to play: No storage could be initialized. Abort\n"
     ]
    },
    {
     "name": "stdout",
     "output_type": "stream",
     "text": [
      "\n",
      "\n",
      "\n",
      "New Command\n",
      "ros2 bag play ../../bags/e1_est_tuning/lab/supervisor/artag/follow-me --clock 1\n"
     ]
    },
    {
     "name": "stderr",
     "output_type": "stream",
     "text": [
      "stdin is not a terminal device. Keyboard handling disabled.[INFO] [1726534906.204183836] [rosbag2_player]: Set rate to 1\n",
      "[INFO] [1726534906.225091205] [rosbag2_player]: Adding keyboard callbacks.\n",
      "[INFO] [1726534906.225137190] [rosbag2_player]: Press SPACE for Pause/Resume\n",
      "[INFO] [1726534906.225150575] [rosbag2_player]: Press CURSOR_RIGHT for Play Next Message\n",
      "[INFO] [1726534906.225161084] [rosbag2_player]: Press CURSOR_UP for Increase Rate 10%\n",
      "[INFO] [1726534906.225170772] [rosbag2_player]: Press CURSOR_DOWN for Decrease Rate 10%\n",
      "[ERROR] [1726534926.224672518] [rosbag2_storage]: Could not open '../../bags/e1_est_tuning/lab/supervisor/artag/follow-me/follow-me_5.mcap' with 'mcap'. Error: read failed\n",
      "[ERROR] [1726534926.224727630] [rosbag2_storage]: Could not load/open plugin with storage id 'mcap'\n",
      "[ERROR] [1726534936.360697088] [rosbag2_player]: Failed to play: No storage could be initialized. Abort\n"
     ]
    },
    {
     "name": "stdout",
     "output_type": "stream",
     "text": [
      "\n",
      "\n",
      "\n",
      "New Command\n",
      "ros2 bag play ../../bags/e1_est_tuning/lab/supervisor/artag/rally --clock 1\n"
     ]
    },
    {
     "name": "stderr",
     "output_type": "stream",
     "text": [
      "stdin is not a terminal device. Keyboard handling disabled.[INFO] [1726534936.771145961] [rosbag2_player]: Set rate to 1\n",
      "[INFO] [1726534936.784084700] [rosbag2_player]: Adding keyboard callbacks.\n",
      "[INFO] [1726534936.784127369] [rosbag2_player]: Press SPACE for Pause/Resume\n",
      "[INFO] [1726534936.784142807] [rosbag2_player]: Press CURSOR_RIGHT for Play Next Message\n",
      "[INFO] [1726534936.784156272] [rosbag2_player]: Press CURSOR_UP for Increase Rate 10%\n",
      "[INFO] [1726534936.784169216] [rosbag2_player]: Press CURSOR_DOWN for Decrease Rate 10%\n"
     ]
    }
   ],
   "source": [
    "last_root = None\n",
    "\n",
    "# Traverse filepath\n",
    "for root, dirs, files in os.walk(filepath):\n",
    "\n",
    "    # Examine each file\n",
    "    for file in files:\n",
    "        \n",
    "        # If it is an mcap, examine\n",
    "        if os.path.splitext(file)[-1] == '.mcap':\n",
    "\n",
    "            # Get labels based on filepath\n",
    "            labels = os.path.normpath(root).split(os.sep)\n",
    "            cmd_actual = labels[-1]\n",
    "            cmd_mode_actual = labels[-2]\n",
    "            role_actual = labels[-3]\n",
    "            scene_actual = labels[-4]\n",
    "            iteration = os.path.splitext(file)[-2].split('_')[-1]\n",
    "\n",
    "            scene_actual_idx = actual_scene_labels.index(scene_actual)\n",
    "\n",
    "            if root != last_root: # Avoid playing mcap file multiple times\n",
    "            \n",
    "                bag_play_cmd = \"ros2 bag play %s --clock 1\" % root\n",
    "                print(bag_play_cmd)\n",
    "                try:\n",
    "                    result = subprocess.check_output(bag_play_cmd, shell=True, text=True)\n",
    "                    print(result)\n",
    "                except subprocess.CalledProcessError as e:\n",
    "                    print(f\"Error executing command: {e}\")\n",
    "                print()\n",
    "\n",
    "            last_root = root\n",
    "\n",
    "rclpy.shutdown()"
   ]
  },
  {
   "cell_type": "code",
   "execution_count": null,
   "id": "60670adc-736d-4455-9087-ca848acff94b",
   "metadata": {},
   "outputs": [],
   "source": [
    "# For file in filepath, get scene, role, modality, and command\n",
    "\n",
    "# Reset estimator nodes\n",
    "\n",
    "# LAST - Load new parameters\n",
    "\n",
    "# Play bag file\n",
    "\n",
    "# Record scene responses - audio, visual, fused\n",
    "\n",
    "# Record command responses - ARtag, speech, gesture, fused"
   ]
  },
  {
   "cell_type": "code",
   "execution_count": null,
   "id": "d15d2104-8e52-4202-aa4e-80f393129f72",
   "metadata": {},
   "outputs": [],
   "source": []
  }
 ],
 "metadata": {
  "kernelspec": {
   "display_name": "Python 3 (ipykernel)",
   "language": "python",
   "name": "python3"
  },
  "language_info": {
   "codemirror_mode": {
    "name": "ipython",
    "version": 3
   },
   "file_extension": ".py",
   "mimetype": "text/x-python",
   "name": "python",
   "nbconvert_exporter": "python",
   "pygments_lexer": "ipython3",
   "version": "3.10.0"
  }
 },
 "nbformat": 4,
 "nbformat_minor": 5
}
