{
 "cells": [
  {
   "cell_type": "code",
   "execution_count": 1,
   "id": "b5639619-762b-47ac-b88e-f8e259db8b08",
   "metadata": {},
   "outputs": [],
   "source": [
    "# Imports\n",
    "import os\n",
    "import subprocess\n",
    "import time\n",
    "\n",
    "import numpy as np\n",
    "\n",
    "import rosbag2_py\n",
    "from rclpy.serialization import deserialize_message\n",
    "from rosidl_runtime_py.utilities import get_message\n",
    "\n",
    "import rclpy\n",
    "from rclpy.node import Node\n",
    "\n",
    "from std_srvs.srv import Empty\n",
    "from sensor_msgs.msg import Image\n",
    "from audio_common_msgs.msg import AudioDataStamped\n",
    "from vision_msgs.msg import Detection3DArray\n",
    "from situated_hri_interfaces.srv import SceneVisRec, SceneAudioRec, RecordEpoch\n",
    "from tf2_msgs.msg import TFMessage"
   ]
  },
  {
   "cell_type": "code",
   "execution_count": 2,
   "id": "6cbb5267-01a1-456e-97c7-1f28580b878b",
   "metadata": {},
   "outputs": [],
   "source": [
    "# Parameters\n",
    "filepath = '../../bags/e1_est_tuning'\n",
    "rel_filepath = 'src/situated_interaction/bags/e1_est_tuning'"
   ]
  },
  {
   "cell_type": "code",
   "execution_count": 3,
   "id": "828d2509-1bdd-40e8-b7c4-d7a60bb4b518",
   "metadata": {},
   "outputs": [],
   "source": [
    "# Member variables\n",
    "rclpy.init()\n",
    "node = Node('bag_playback_node')\n",
    "\n",
    "# Reset clients and services\n",
    "reset_req = Empty.Request()\n",
    "reset_spatial_tracker_client = node.create_client(Empty, 'tbd_tracker_node/reset_tracker')\n",
    "reset_semantic_tracker_client = node.create_client(Empty, 'semantic_fusion_node/reset')\n",
    "\n",
    "# Start/stop recording services\n",
    "start_tracker_recording_client = node.create_client(RecordEpoch, 'record_tracker_results_node/record_epoch')\n",
    "stop_tracker_recording_client = node.create_client(Empty, 'record_tracker_results_node/stop_recording')\n",
    "\n",
    "# Other member variables\n",
    "actual_scene_labels = ['campus','courtyard','lab','lobby']\n"
   ]
  },
  {
   "cell_type": "code",
   "execution_count": 5,
   "id": "96fc00db-fada-4710-ba49-ac3a65ddfcc1",
   "metadata": {
    "scrolled": true
   },
   "outputs": [
    {
     "name": "stdout",
     "output_type": "stream",
     "text": [
      "ros2 bag play ../../bags/e1_est_tuning/lab/supervisor/gest_verb/move-in-reverse --clock 1\n"
     ]
    },
    {
     "name": "stderr",
     "output_type": "stream",
     "text": [
      "stdin is not a terminal device. Keyboard handling disabled.[INFO] [1726801092.454015960] [rosbag2_player]: Set rate to 1\n",
      "[INFO] [1726801092.472349353] [rosbag2_player]: Adding keyboard callbacks.\n",
      "[INFO] [1726801092.472400636] [rosbag2_player]: Press SPACE for Pause/Resume\n",
      "[INFO] [1726801092.472421865] [rosbag2_player]: Press CURSOR_RIGHT for Play Next Message\n",
      "[INFO] [1726801092.472440799] [rosbag2_player]: Press CURSOR_UP for Increase Rate 10%\n",
      "[INFO] [1726801092.472458922] [rosbag2_player]: Press CURSOR_DOWN for Decrease Rate 10%\n",
      "[ERROR] [1726801112.561347829] [rosbag2_storage]: Could not open '../../bags/e1_est_tuning/lab/supervisor/gest_verb/move-in-reverse/move-in-reverse_5.mcap' with 'mcap'. Error: read failed\n",
      "[ERROR] [1726801112.561412787] [rosbag2_storage]: Could not load/open plugin with storage id 'mcap'\n",
      "[ERROR] [1726801122.567088913] [rosbag2_player]: Failed to play: No storage could be initialized. Abort\n"
     ]
    },
    {
     "name": "stdout",
     "output_type": "stream",
     "text": [
      "\n",
      "\n",
      "ros2 bag play ../../bags/e1_est_tuning/lab/supervisor/gest_verb/move-forward --clock 1\n"
     ]
    },
    {
     "name": "stderr",
     "output_type": "stream",
     "text": [
      "stdin is not a terminal device. Keyboard handling disabled.[INFO] [1726801124.487814341] [rosbag2_player]: Set rate to 1\n",
      "[INFO] [1726801124.506109710] [rosbag2_player]: Adding keyboard callbacks.\n",
      "[INFO] [1726801124.506157908] [rosbag2_player]: Press SPACE for Pause/Resume\n",
      "[INFO] [1726801124.506173036] [rosbag2_player]: Press CURSOR_RIGHT for Play Next Message\n",
      "[INFO] [1726801124.506186881] [rosbag2_player]: Press CURSOR_UP for Increase Rate 10%\n",
      "[INFO] [1726801124.506202209] [rosbag2_player]: Press CURSOR_DOWN for Decrease Rate 10%\n",
      "[ERROR] [1726801144.430172690] [rosbag2_storage]: Could not open '../../bags/e1_est_tuning/lab/supervisor/gest_verb/move-forward/move-forward_5.mcap' with 'mcap'. Error: read failed\n",
      "[ERROR] [1726801144.430250152] [rosbag2_storage]: Could not load/open plugin with storage id 'mcap'\n",
      "[ERROR] [1726801154.536311462] [rosbag2_player]: Failed to play: No storage could be initialized. Abort\n"
     ]
    },
    {
     "name": "stdout",
     "output_type": "stream",
     "text": [
      "\n",
      "\n",
      "ros2 bag play ../../bags/e1_est_tuning/lab/supervisor/gest_verb/follow-me --clock 1\n"
     ]
    },
    {
     "name": "stderr",
     "output_type": "stream",
     "text": [
      "stdin is not a terminal device. Keyboard handling disabled.[INFO] [1726801155.974967379] [rosbag2_player]: Set rate to 1\n",
      "[INFO] [1726801155.984322067] [rosbag2_player]: Adding keyboard callbacks.\n",
      "[INFO] [1726801155.984348305] [rosbag2_player]: Press SPACE for Pause/Resume\n",
      "[INFO] [1726801155.984354857] [rosbag2_player]: Press CURSOR_RIGHT for Play Next Message\n",
      "[INFO] [1726801155.984360507] [rosbag2_player]: Press CURSOR_UP for Increase Rate 10%\n",
      "[INFO] [1726801155.984365456] [rosbag2_player]: Press CURSOR_DOWN for Decrease Rate 10%\n",
      "[ERROR] [1726801175.782706939] [rosbag2_storage]: Could not open '../../bags/e1_est_tuning/lab/supervisor/gest_verb/follow-me/follow-me_5.mcap' with 'mcap'. Error: read failed\n",
      "[ERROR] [1726801175.782783499] [rosbag2_storage]: Could not load/open plugin with storage id 'mcap'\n",
      "[ERROR] [1726801186.011050715] [rosbag2_player]: Failed to play: No storage could be initialized. Abort\n"
     ]
    },
    {
     "name": "stdout",
     "output_type": "stream",
     "text": [
      "\n",
      "\n",
      "ros2 bag play ../../bags/e1_est_tuning/lab/supervisor/gest_verb/rally --clock 1\n"
     ]
    },
    {
     "name": "stderr",
     "output_type": "stream",
     "text": [
      "stdin is not a terminal device. Keyboard handling disabled.[INFO] [1726801187.842264727] [rosbag2_player]: Set rate to 1\n",
      "[INFO] [1726801187.855529185] [rosbag2_player]: Adding keyboard callbacks.\n",
      "[INFO] [1726801187.855585087] [rosbag2_player]: Press SPACE for Pause/Resume\n",
      "[INFO] [1726801187.855603000] [rosbag2_player]: Press CURSOR_RIGHT for Play Next Message\n",
      "[INFO] [1726801187.855616214] [rosbag2_player]: Press CURSOR_UP for Increase Rate 10%\n",
      "[INFO] [1726801187.855629198] [rosbag2_player]: Press CURSOR_DOWN for Decrease Rate 10%\n",
      "[ERROR] [1726801207.580771427] [rosbag2_storage]: Could not open '../../bags/e1_est_tuning/lab/supervisor/gest_verb/rally/rally_5.mcap' with 'mcap'. Error: read failed\n",
      "[ERROR] [1726801207.580834904] [rosbag2_storage]: Could not load/open plugin with storage id 'mcap'\n",
      "[ERROR] [1726801217.879653635] [rosbag2_player]: Failed to play: No storage could be initialized. Abort\n"
     ]
    },
    {
     "name": "stdout",
     "output_type": "stream",
     "text": [
      "\n",
      "\n",
      "ros2 bag play ../../bags/e1_est_tuning/lab/supervisor/gest_verb/halt --clock 1\n"
     ]
    },
    {
     "name": "stderr",
     "output_type": "stream",
     "text": [
      "stdin is not a terminal device. Keyboard handling disabled.[INFO] [1726801219.383787453] [rosbag2_player]: Set rate to 1\n",
      "[INFO] [1726801219.391967558] [rosbag2_player]: Adding keyboard callbacks.\n",
      "[INFO] [1726801219.392010677] [rosbag2_player]: Press SPACE for Pause/Resume\n",
      "[INFO] [1726801219.392029091] [rosbag2_player]: Press CURSOR_RIGHT for Play Next Message\n",
      "[INFO] [1726801219.392045491] [rosbag2_player]: Press CURSOR_UP for Increase Rate 10%\n",
      "[INFO] [1726801219.392061751] [rosbag2_player]: Press CURSOR_DOWN for Decrease Rate 10%\n",
      "[ERROR] [1726801239.348128716] [rosbag2_storage]: Could not open '../../bags/e1_est_tuning/lab/supervisor/gest_verb/halt/halt_5.mcap' with 'mcap'. Error: read failed\n",
      "[ERROR] [1726801239.348173850] [rosbag2_storage]: Could not load/open plugin with storage id 'mcap'\n",
      "[ERROR] [1726801249.502112389] [rosbag2_player]: Failed to play: No storage could be initialized. Abort\n"
     ]
    },
    {
     "name": "stdout",
     "output_type": "stream",
     "text": [
      "\n",
      "\n",
      "ros2 bag play ../../bags/e1_est_tuning/lab/supervisor/gest_verb/advance --clock 1\n"
     ]
    },
    {
     "name": "stderr",
     "output_type": "stream",
     "text": [
      "stdin is not a terminal device. Keyboard handling disabled.[INFO] [1726801250.986251555] [rosbag2_player]: Set rate to 1\n",
      "[INFO] [1726801251.000403727] [rosbag2_player]: Adding keyboard callbacks.\n",
      "[INFO] [1726801251.000446295] [rosbag2_player]: Press SPACE for Pause/Resume\n",
      "[INFO] [1726801251.000461924] [rosbag2_player]: Press CURSOR_RIGHT for Play Next Message\n",
      "[INFO] [1726801251.000475860] [rosbag2_player]: Press CURSOR_UP for Increase Rate 10%\n",
      "[INFO] [1726801251.000489435] [rosbag2_player]: Press CURSOR_DOWN for Decrease Rate 10%\n",
      "[ERROR] [1726801270.983284825] [rosbag2_storage]: Could not open '../../bags/e1_est_tuning/lab/supervisor/gest_verb/advance/advance_5.mcap' with 'mcap'. Error: read failed\n",
      "[ERROR] [1726801270.983361467] [rosbag2_storage]: Could not load/open plugin with storage id 'mcap'\n",
      "[ERROR] [1726801281.055884180] [rosbag2_player]: Failed to play: No storage could be initialized. Abort\n"
     ]
    },
    {
     "name": "stdout",
     "output_type": "stream",
     "text": [
      "\n",
      "\n",
      "ros2 bag play ../../bags/e1_est_tuning/lab/supervisor/gest_verb/attention --clock 1\n"
     ]
    },
    {
     "name": "stderr",
     "output_type": "stream",
     "text": [
      "stdin is not a terminal device. Keyboard handling disabled.[INFO] [1726801282.487503194] [rosbag2_player]: Set rate to 1\n",
      "[INFO] [1726801282.501876061] [rosbag2_player]: Adding keyboard callbacks.\n",
      "[INFO] [1726801282.501935230] [rosbag2_player]: Press SPACE for Pause/Resume\n",
      "[INFO] [1726801282.501972509] [rosbag2_player]: Press CURSOR_RIGHT for Play Next Message\n",
      "[INFO] [1726801282.501991494] [rosbag2_player]: Press CURSOR_UP for Increase Rate 10%\n",
      "[INFO] [1726801282.502009167] [rosbag2_player]: Press CURSOR_DOWN for Decrease Rate 10%\n",
      "[ERROR] [1726801302.394675733] [rosbag2_storage]: Could not open '../../bags/e1_est_tuning/lab/supervisor/gest_verb/attention/attention_5.mcap' with 'mcap'. Error: read failed\n",
      "[ERROR] [1726801302.394733960] [rosbag2_storage]: Could not load/open plugin with storage id 'mcap'\n",
      "[ERROR] [1726801312.648302877] [rosbag2_player]: Failed to play: No storage could be initialized. Abort\n"
     ]
    },
    {
     "name": "stdout",
     "output_type": "stream",
     "text": [
      "\n",
      "\n",
      "ros2 bag play ../../bags/e1_est_tuning/lab/supervisor/artag/move-in-reverse --clock 1\n"
     ]
    },
    {
     "name": "stderr",
     "output_type": "stream",
     "text": [
      "stdin is not a terminal device. Keyboard handling disabled.[INFO] [1726801314.126962020] [rosbag2_player]: Set rate to 1\n",
      "[INFO] [1726801314.138884408] [rosbag2_player]: Adding keyboard callbacks.\n",
      "[INFO] [1726801314.138924593] [rosbag2_player]: Press SPACE for Pause/Resume\n",
      "[INFO] [1726801314.138933319] [rosbag2_player]: Press CURSOR_RIGHT for Play Next Message\n",
      "[INFO] [1726801314.138940141] [rosbag2_player]: Press CURSOR_UP for Increase Rate 10%\n",
      "[INFO] [1726801314.138946613] [rosbag2_player]: Press CURSOR_DOWN for Decrease Rate 10%\n",
      "[ERROR] [1726801334.179631181] [rosbag2_storage]: Could not open '../../bags/e1_est_tuning/lab/supervisor/artag/move-in-reverse/move-in-reverse_5.mcap' with 'mcap'. Error: read failed\n",
      "[ERROR] [1726801334.179676695] [rosbag2_storage]: Could not load/open plugin with storage id 'mcap'\n",
      "[ERROR] [1726801344.324824004] [rosbag2_player]: Failed to play: No storage could be initialized. Abort\n"
     ]
    },
    {
     "name": "stdout",
     "output_type": "stream",
     "text": [
      "\n",
      "\n",
      "ros2 bag play ../../bags/e1_est_tuning/lab/supervisor/artag/move-forward --clock 1\n"
     ]
    },
    {
     "name": "stderr",
     "output_type": "stream",
     "text": [
      "stdin is not a terminal device. Keyboard handling disabled.[INFO] [1726801345.808172935] [rosbag2_player]: Set rate to 1\n",
      "[INFO] [1726801345.822142926] [rosbag2_player]: Adding keyboard callbacks.\n",
      "[INFO] [1726801345.822189262] [rosbag2_player]: Press SPACE for Pause/Resume\n",
      "[INFO] [1726801345.822204851] [rosbag2_player]: Press CURSOR_RIGHT for Play Next Message\n",
      "[INFO] [1726801345.822218426] [rosbag2_player]: Press CURSOR_UP for Increase Rate 10%\n",
      "[INFO] [1726801345.822231250] [rosbag2_player]: Press CURSOR_DOWN for Decrease Rate 10%\n",
      "[INFO] [1726801361.205366872] [rclcpp]: signal_handler(signum=2)\n"
     ]
    },
    {
     "ename": "KeyboardInterrupt",
     "evalue": "",
     "output_type": "error",
     "traceback": [
      "\u001b[0;31m---------------------------------------------------------------------------\u001b[0m",
      "\u001b[0;31mKeyboardInterrupt\u001b[0m                         Traceback (most recent call last)",
      "Cell \u001b[0;32mIn[5], line 32\u001b[0m\n\u001b[1;32m     30\u001b[0m \u001b[38;5;28mprint\u001b[39m(bag_play_cmd)\n\u001b[1;32m     31\u001b[0m \u001b[38;5;28;01mtry\u001b[39;00m:\n\u001b[0;32m---> 32\u001b[0m     result \u001b[38;5;241m=\u001b[39m \u001b[43msubprocess\u001b[49m\u001b[38;5;241;43m.\u001b[39;49m\u001b[43mcheck_output\u001b[49m\u001b[43m(\u001b[49m\u001b[43mbag_play_cmd\u001b[49m\u001b[43m,\u001b[49m\u001b[43m \u001b[49m\u001b[43mshell\u001b[49m\u001b[38;5;241;43m=\u001b[39;49m\u001b[38;5;28;43;01mTrue\u001b[39;49;00m\u001b[43m,\u001b[49m\u001b[43m \u001b[49m\u001b[43mtext\u001b[49m\u001b[38;5;241;43m=\u001b[39;49m\u001b[38;5;28;43;01mTrue\u001b[39;49;00m\u001b[43m)\u001b[49m\n\u001b[1;32m     33\u001b[0m     \u001b[38;5;28mprint\u001b[39m(result)\n\u001b[1;32m     34\u001b[0m \u001b[38;5;28;01mexcept\u001b[39;00m subprocess\u001b[38;5;241m.\u001b[39mCalledProcessError \u001b[38;5;28;01mas\u001b[39;00m e:\n",
      "File \u001b[0;32m~/mambaforge/envs/sit_int/lib/python3.10/subprocess.py:420\u001b[0m, in \u001b[0;36mcheck_output\u001b[0;34m(timeout, *popenargs, **kwargs)\u001b[0m\n\u001b[1;32m    417\u001b[0m         empty \u001b[38;5;241m=\u001b[39m \u001b[38;5;124mb\u001b[39m\u001b[38;5;124m'\u001b[39m\u001b[38;5;124m'\u001b[39m\n\u001b[1;32m    418\u001b[0m     kwargs[\u001b[38;5;124m'\u001b[39m\u001b[38;5;124minput\u001b[39m\u001b[38;5;124m'\u001b[39m] \u001b[38;5;241m=\u001b[39m empty\n\u001b[0;32m--> 420\u001b[0m \u001b[38;5;28;01mreturn\u001b[39;00m \u001b[43mrun\u001b[49m\u001b[43m(\u001b[49m\u001b[38;5;241;43m*\u001b[39;49m\u001b[43mpopenargs\u001b[49m\u001b[43m,\u001b[49m\u001b[43m \u001b[49m\u001b[43mstdout\u001b[49m\u001b[38;5;241;43m=\u001b[39;49m\u001b[43mPIPE\u001b[49m\u001b[43m,\u001b[49m\u001b[43m \u001b[49m\u001b[43mtimeout\u001b[49m\u001b[38;5;241;43m=\u001b[39;49m\u001b[43mtimeout\u001b[49m\u001b[43m,\u001b[49m\u001b[43m \u001b[49m\u001b[43mcheck\u001b[49m\u001b[38;5;241;43m=\u001b[39;49m\u001b[38;5;28;43;01mTrue\u001b[39;49;00m\u001b[43m,\u001b[49m\n\u001b[1;32m    421\u001b[0m \u001b[43m           \u001b[49m\u001b[38;5;241;43m*\u001b[39;49m\u001b[38;5;241;43m*\u001b[39;49m\u001b[43mkwargs\u001b[49m\u001b[43m)\u001b[49m\u001b[38;5;241m.\u001b[39mstdout\n",
      "File \u001b[0;32m~/mambaforge/envs/sit_int/lib/python3.10/subprocess.py:503\u001b[0m, in \u001b[0;36mrun\u001b[0;34m(input, capture_output, timeout, check, *popenargs, **kwargs)\u001b[0m\n\u001b[1;32m    501\u001b[0m \u001b[38;5;28;01mwith\u001b[39;00m Popen(\u001b[38;5;241m*\u001b[39mpopenargs, \u001b[38;5;241m*\u001b[39m\u001b[38;5;241m*\u001b[39mkwargs) \u001b[38;5;28;01mas\u001b[39;00m process:\n\u001b[1;32m    502\u001b[0m     \u001b[38;5;28;01mtry\u001b[39;00m:\n\u001b[0;32m--> 503\u001b[0m         stdout, stderr \u001b[38;5;241m=\u001b[39m \u001b[43mprocess\u001b[49m\u001b[38;5;241;43m.\u001b[39;49m\u001b[43mcommunicate\u001b[49m\u001b[43m(\u001b[49m\u001b[38;5;28;43minput\u001b[39;49m\u001b[43m,\u001b[49m\u001b[43m \u001b[49m\u001b[43mtimeout\u001b[49m\u001b[38;5;241;43m=\u001b[39;49m\u001b[43mtimeout\u001b[49m\u001b[43m)\u001b[49m\n\u001b[1;32m    504\u001b[0m     \u001b[38;5;28;01mexcept\u001b[39;00m TimeoutExpired \u001b[38;5;28;01mas\u001b[39;00m exc:\n\u001b[1;32m    505\u001b[0m         process\u001b[38;5;241m.\u001b[39mkill()\n",
      "File \u001b[0;32m~/mambaforge/envs/sit_int/lib/python3.10/subprocess.py:1136\u001b[0m, in \u001b[0;36mPopen.communicate\u001b[0;34m(self, input, timeout)\u001b[0m\n\u001b[1;32m   1134\u001b[0m     \u001b[38;5;28mself\u001b[39m\u001b[38;5;241m.\u001b[39m_stdin_write(\u001b[38;5;28minput\u001b[39m)\n\u001b[1;32m   1135\u001b[0m \u001b[38;5;28;01melif\u001b[39;00m \u001b[38;5;28mself\u001b[39m\u001b[38;5;241m.\u001b[39mstdout:\n\u001b[0;32m-> 1136\u001b[0m     stdout \u001b[38;5;241m=\u001b[39m \u001b[38;5;28;43mself\u001b[39;49m\u001b[38;5;241;43m.\u001b[39;49m\u001b[43mstdout\u001b[49m\u001b[38;5;241;43m.\u001b[39;49m\u001b[43mread\u001b[49m\u001b[43m(\u001b[49m\u001b[43m)\u001b[49m\n\u001b[1;32m   1137\u001b[0m     \u001b[38;5;28mself\u001b[39m\u001b[38;5;241m.\u001b[39mstdout\u001b[38;5;241m.\u001b[39mclose()\n\u001b[1;32m   1138\u001b[0m \u001b[38;5;28;01melif\u001b[39;00m \u001b[38;5;28mself\u001b[39m\u001b[38;5;241m.\u001b[39mstderr:\n",
      "\u001b[0;31mKeyboardInterrupt\u001b[0m: "
     ]
    }
   ],
   "source": [
    "last_root = None\n",
    "\n",
    "# Traverse filepath\n",
    "for root, dirs, files in os.walk(filepath):\n",
    "\n",
    "    # Examine each file\n",
    "    for file in files:\n",
    "        \n",
    "        # If it is an mcap, examine\n",
    "        if os.path.splitext(file)[-1] == '.mcap':\n",
    "\n",
    "            # Get labels based on filepath\n",
    "            labels = os.path.normpath(root).split(os.sep)\n",
    "            cmd_actual = labels[-1]\n",
    "            cmd_mode_actual = labels[-2]\n",
    "            role_actual = labels[-3]\n",
    "            scene_actual = labels[-4]\n",
    "            iteration = os.path.splitext(file)[-2].split('_')[-1]\n",
    "\n",
    "            scene_actual_idx = actual_scene_labels.index(scene_actual)\n",
    "\n",
    "            if root != last_root: # Avoid playing mcap file multiple times\n",
    "\n",
    "                # Reset nodes\n",
    "                time.sleep(1)\n",
    "                spatial_future = reset_spatial_tracker_client.call_async(reset_req)\n",
    "                semantic_future = reset_semantic_tracker_client.call_async(reset_req)\n",
    "                \n",
    "                bag_play_cmd = \"ros2 bag play %s --clock 1\" % root\n",
    "                print(bag_play_cmd)\n",
    "                try:\n",
    "                    result = subprocess.check_output(bag_play_cmd, shell=True, text=True)\n",
    "                    print(result)\n",
    "                except subprocess.CalledProcessError as e:\n",
    "                    print(f\"Error executing command: {e}\")\n",
    "                print()\n",
    "\n",
    "            last_root = root\n",
    "\n",
    "rclpy.shutdown()"
   ]
  },
  {
   "cell_type": "code",
   "execution_count": 6,
   "id": "60670adc-736d-4455-9087-ca848acff94b",
   "metadata": {},
   "outputs": [],
   "source": [
    "# For file in filepath, get scene, role, modality, and command\n",
    "\n",
    "# Reset estimator nodes\n",
    "\n",
    "# LAST - Load new parameters\n",
    "\n",
    "# Play bag file\n",
    "\n",
    "# Record scene responses - audio, visual, fused\n",
    "\n",
    "# Record command responses - ARtag, speech, gesture, fused"
   ]
  },
  {
   "cell_type": "code",
   "execution_count": null,
   "id": "d15d2104-8e52-4202-aa4e-80f393129f72",
   "metadata": {},
   "outputs": [],
   "source": []
  }
 ],
 "metadata": {
  "kernelspec": {
   "display_name": "Python 3 (ipykernel)",
   "language": "python",
   "name": "python3"
  },
  "language_info": {
   "codemirror_mode": {
    "name": "ipython",
    "version": 3
   },
   "file_extension": ".py",
   "mimetype": "text/x-python",
   "name": "python",
   "nbconvert_exporter": "python",
   "pygments_lexer": "ipython3",
   "version": "3.10.0"
  }
 },
 "nbformat": 4,
 "nbformat_minor": 5
}
