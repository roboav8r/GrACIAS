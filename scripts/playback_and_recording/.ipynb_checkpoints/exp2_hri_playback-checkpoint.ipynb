{
 "cells": [
  {
   "cell_type": "code",
   "execution_count": 19,
   "id": "b5639619-762b-47ac-b88e-f8e259db8b08",
   "metadata": {},
   "outputs": [],
   "source": [
    "# Imports\n",
    "import os\n",
    "import subprocess\n",
    "import time\n",
    "\n",
    "import numpy as np\n",
    "\n",
    "import rosbag2_py\n",
    "from rclpy.serialization import deserialize_message\n",
    "from rosidl_runtime_py.utilities import get_message\n",
    "\n",
    "import rclpy\n",
    "from rclpy.node import Node\n",
    "\n",
    "from std_srvs.srv import Empty\n",
    "from sensor_msgs.msg import Image\n",
    "from audio_common_msgs.msg import AudioDataStamped\n",
    "from vision_msgs.msg import Detection3DArray\n",
    "from situated_hri_interfaces.srv import SceneVisRec, SceneAudioRec, RecordEpoch\n",
    "from tf2_msgs.msg import TFMessage"
   ]
  },
  {
   "cell_type": "code",
   "execution_count": 2,
   "id": "6cbb5267-01a1-456e-97c7-1f28580b878b",
   "metadata": {},
   "outputs": [],
   "source": [
    "# Parameters\n",
    "filepath = '../../bags/e1_est_tuning'\n",
    "rel_filepath = 'src/situated_interaction/bags/e1_est_tuning'"
   ]
  },
  {
   "cell_type": "code",
   "execution_count": 14,
   "id": "828d2509-1bdd-40e8-b7c4-d7a60bb4b518",
   "metadata": {},
   "outputs": [],
   "source": [
    "# Member variables\n",
    "rclpy.init()\n",
    "node = Node('bag_playback_node')\n",
    "\n",
    "# Reset clients and services\n",
    "reset_req = Empty.Request()\n",
    "reset_spatial_tracker_client = node.create_client(Empty, 'oakd_tracker_node/reset_tracker')\n",
    "reset_semantic_tracker_client = node.create_client(Empty, 'semantic_fusion_node/reset')\n",
    "\n",
    "# Start/stop recording services\n",
    "start_tracker_recording_client = node.create_client(RecordEpoch, 'record_tracker_results_node/record_epoch')\n",
    "stop_tracker_recording_client = node.create_client(Empty, 'record_tracker_results_node/stop_recording')\n",
    "\n",
    "# Other member variables\n",
    "actual_scene_labels = ['campus','courtyard','lab','lobby']\n"
   ]
  },
  {
   "cell_type": "code",
   "execution_count": null,
   "id": "96fc00db-fada-4710-ba49-ac3a65ddfcc1",
   "metadata": {
    "scrolled": true
   },
   "outputs": [
    {
     "name": "stdout",
     "output_type": "stream",
     "text": [
      "ros2 bag play ../../bags/e1_est_tuning/lab/supervisor/gest_verb/move-in-reverse --clock 1\n"
     ]
    },
    {
     "name": "stderr",
     "output_type": "stream",
     "text": [
      "stdin is not a terminal device. Keyboard handling disabled.[INFO] [1726538575.864425486] [rosbag2_player]: Set rate to 1\n",
      "[INFO] [1726538575.880302250] [rosbag2_player]: Adding keyboard callbacks.\n",
      "[INFO] [1726538575.880363044] [rosbag2_player]: Press SPACE for Pause/Resume\n",
      "[INFO] [1726538575.880384875] [rosbag2_player]: Press CURSOR_RIGHT for Play Next Message\n",
      "[INFO] [1726538575.880401316] [rosbag2_player]: Press CURSOR_UP for Increase Rate 10%\n",
      "[INFO] [1726538575.880416214] [rosbag2_player]: Press CURSOR_DOWN for Decrease Rate 10%\n",
      "[ERROR] [1726538596.614244458] [rosbag2_storage]: Could not open '../../bags/e1_est_tuning/lab/supervisor/gest_verb/move-in-reverse/move-in-reverse_5.mcap' with 'mcap'. Error: read failed\n",
      "[ERROR] [1726538596.614310823] [rosbag2_storage]: Could not load/open plugin with storage id 'mcap'\n",
      "[ERROR] [1726538605.928924307] [rosbag2_player]: Failed to play: No storage could be initialized. Abort\n"
     ]
    },
    {
     "name": "stdout",
     "output_type": "stream",
     "text": [
      "\n",
      "\n",
      "ros2 bag play ../../bags/e1_est_tuning/lab/supervisor/gest_verb/move-forward --clock 1\n"
     ]
    },
    {
     "name": "stderr",
     "output_type": "stream",
     "text": [
      "stdin is not a terminal device. Keyboard handling disabled.[INFO] [1726538607.401893640] [rosbag2_player]: Set rate to 1\n",
      "[INFO] [1726538607.419049467] [rosbag2_player]: Adding keyboard callbacks.\n",
      "[INFO] [1726538607.419092048] [rosbag2_player]: Press SPACE for Pause/Resume\n",
      "[INFO] [1726538607.419107316] [rosbag2_player]: Press CURSOR_RIGHT for Play Next Message\n",
      "[INFO] [1726538607.419120892] [rosbag2_player]: Press CURSOR_UP for Increase Rate 10%\n",
      "[INFO] [1726538607.419134808] [rosbag2_player]: Press CURSOR_DOWN for Decrease Rate 10%\n",
      "[ERROR] [1726538627.378931115] [rosbag2_storage]: Could not open '../../bags/e1_est_tuning/lab/supervisor/gest_verb/move-forward/move-forward_5.mcap' with 'mcap'. Error: read failed\n",
      "[ERROR] [1726538627.378966552] [rosbag2_storage]: Could not load/open plugin with storage id 'mcap'\n"
     ]
    }
   ],
   "source": [
    "last_root = None\n",
    "\n",
    "# Traverse filepath\n",
    "for root, dirs, files in os.walk(filepath):\n",
    "\n",
    "    # Examine each file\n",
    "    for file in files:\n",
    "        \n",
    "        # If it is an mcap, examine\n",
    "        if os.path.splitext(file)[-1] == '.mcap':\n",
    "\n",
    "            # Get labels based on filepath\n",
    "            labels = os.path.normpath(root).split(os.sep)\n",
    "            cmd_actual = labels[-1]\n",
    "            cmd_mode_actual = labels[-2]\n",
    "            role_actual = labels[-3]\n",
    "            scene_actual = labels[-4]\n",
    "            iteration = os.path.splitext(file)[-2].split('_')[-1]\n",
    "\n",
    "            scene_actual_idx = actual_scene_labels.index(scene_actual)\n",
    "\n",
    "            if root != last_root: # Avoid playing mcap file multiple times\n",
    "\n",
    "                # Reset nodes\n",
    "                time.sleep(1)\n",
    "                spatial_future = reset_spatial_tracker_client.call_async(reset_req)\n",
    "                semantic_future = reset_semantic_tracker_client.call_async(reset_req)\n",
    "                \n",
    "                bag_play_cmd = \"ros2 bag play %s --clock 1\" % root\n",
    "                print(bag_play_cmd)\n",
    "                try:\n",
    "                    result = subprocess.check_output(bag_play_cmd, shell=True, text=True)\n",
    "                    print(result)\n",
    "                except subprocess.CalledProcessError as e:\n",
    "                    print(f\"Error executing command: {e}\")\n",
    "                print()\n",
    "\n",
    "            last_root = root\n",
    "\n",
    "rclpy.shutdown()"
   ]
  },
  {
   "cell_type": "code",
   "execution_count": null,
   "id": "60670adc-736d-4455-9087-ca848acff94b",
   "metadata": {},
   "outputs": [],
   "source": [
    "# For file in filepath, get scene, role, modality, and command\n",
    "\n",
    "# Reset estimator nodes\n",
    "\n",
    "# LAST - Load new parameters\n",
    "\n",
    "# Play bag file\n",
    "\n",
    "# Record scene responses - audio, visual, fused\n",
    "\n",
    "# Record command responses - ARtag, speech, gesture, fused"
   ]
  },
  {
   "cell_type": "code",
   "execution_count": null,
   "id": "d15d2104-8e52-4202-aa4e-80f393129f72",
   "metadata": {},
   "outputs": [],
   "source": []
  }
 ],
 "metadata": {
  "kernelspec": {
   "display_name": "Python 3 (ipykernel)",
   "language": "python",
   "name": "python3"
  },
  "language_info": {
   "codemirror_mode": {
    "name": "ipython",
    "version": 3
   },
   "file_extension": ".py",
   "mimetype": "text/x-python",
   "name": "python",
   "nbconvert_exporter": "python",
   "pygments_lexer": "ipython3",
   "version": "3.10.0"
  }
 },
 "nbformat": 4,
 "nbformat_minor": 5
}
