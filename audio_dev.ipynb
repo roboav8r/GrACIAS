{
 "cells": [
  {
   "cell_type": "code",
   "execution_count": 1,
   "id": "bcbcec9a-1bb1-4fe4-99c9-5070ee44b94a",
   "metadata": {},
   "outputs": [
    {
     "name": "stderr",
     "output_type": "stream",
     "text": [
      "/home/jd/anaconda3/envs/marmot/lib/python3.10/site-packages/tqdm/auto.py:21: TqdmWarning: IProgress not found. Please update jupyter and ipywidgets. See https://ipywidgets.readthedocs.io/en/stable/user_install.html\n",
      "  from .autonotebook import tqdm as notebook_tqdm\n"
     ]
    }
   ],
   "source": [
    "import torch\n",
    "import numpy as np"
   ]
  },
  {
   "cell_type": "code",
   "execution_count": 29,
   "id": "3ed77d98-77a7-42b0-8bf4-9a5ebaf2900c",
   "metadata": {},
   "outputs": [],
   "source": [
    "def beam_projection(pos, az):\n",
    "    pos_angle = np.arctan2(pos[1],pos[0])\n",
    "    # make sure pos_angle in range [0, 2pi)\n",
    "\n",
    "    while pos_angle < 0:\n",
    "        pos_angle += 2*np.pi\n",
    "    while pos_angle > 2*np.pi:\n",
    "        pos_angle -= 2*np.pi\n",
    "\n",
    "    while pos_angle < 0:\n",
    "        pos_angle += 2*np.pi\n",
    "    while pos_angle > 2*np.pi:\n",
    "        pos_angle -= 2*np.pi\n",
    "    \n",
    "    print(\"mike_angle: %s\" % pos_angle)\n",
    "    print(\"az: %s\" % az)\n",
    "    delta_angle = az - pos_angle\n",
    "    print(\"delta: %s\" % delta_angle)\n",
    "    return np.sqrt(pos[0]**2 + pos[1]**2)*np.cos(delta_angle)"
   ]
  },
  {
   "cell_type": "code",
   "execution_count": 49,
   "id": "33d54d83-dfb1-4069-aa5b-a3358319c9a4",
   "metadata": {},
   "outputs": [
    {
     "name": "stdout",
     "output_type": "stream",
     "text": [
      "mike_angle: 0.5235987755982989\n",
      "az: 0.5235987755982988\n",
      "delta: -1.1102230246251565e-16\n"
     ]
    },
    {
     "data": {
      "text/plain": [
       "1.9999999999999998"
      ]
     },
     "execution_count": 49,
     "metadata": {},
     "output_type": "execute_result"
    }
   ],
   "source": [
    "pos = [np.sqrt(3),1]\n",
    "az = np.deg2rad(30)\n",
    "\n",
    "beam_projection(pos,az)"
   ]
  },
  {
   "cell_type": "code",
   "execution_count": null,
   "id": "87415ba7-a25e-4cfb-9653-5146fa4f3052",
   "metadata": {},
   "outputs": [],
   "source": []
  }
 ],
 "metadata": {
  "kernelspec": {
   "display_name": "Python 3 (ipykernel)",
   "language": "python",
   "name": "python3"
  },
  "language_info": {
   "codemirror_mode": {
    "name": "ipython",
    "version": 3
   },
   "file_extension": ".py",
   "mimetype": "text/x-python",
   "name": "python",
   "nbconvert_exporter": "python",
   "pygments_lexer": "ipython3",
   "version": "3.10.0"
  }
 },
 "nbformat": 4,
 "nbformat_minor": 5
}
